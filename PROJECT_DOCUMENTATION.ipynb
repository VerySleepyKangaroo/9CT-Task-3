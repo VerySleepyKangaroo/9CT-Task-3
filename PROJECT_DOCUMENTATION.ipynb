{
 "cells": [
  {
   "cell_type": "markdown",
   "id": "982a52be",
   "metadata": {},
   "source": [
    "# **Project Documentation**\n",
    "Name: **Pranav Balamurugan** \n",
    "\n",
    "Assessment Task: **Data Science (Task 3)**"
   ]
  },
  {
   "cell_type": "markdown",
   "id": "34d1f8a1",
   "metadata": {},
   "source": [
    "**"
   ]
  },
  {
   "cell_type": "markdown",
   "id": "1e83ffa1",
   "metadata": {},
   "source": [
    "### **Design Brief:**\n",
    "_Identify a complex societal issue (e.g. housing, natural disasters) or a need within the school community. Form a hypothesis related to the issue. Design a system that processes and visualises data to test your hypothesis._"
   ]
  },
  {
   "cell_type": "markdown",
   "id": "4338ddf5",
   "metadata": {},
   "source": [
    "**"
   ]
  },
  {
   "cell_type": "markdown",
   "id": "de3a4dfb",
   "metadata": {},
   "source": [
    "### Phase 1: **Identifying and Defining**\n",
    "\n",
    "_Consider a wicked problem in society (e.g. housing crisis, bushfires, floods), or alternatively, a need or opportunity in the school community._\n",
    "\n",
    "##### **Mind Map:**\n",
    "\n",
    "_Draw a three-tiered mind map of data you could collect to investigate either from a publicly available dataset, or your own primary research (if looking at school community). On the 2nd tier put the wicked problems, on the 3rd tier get more specific on each problem_\n",
    "\n",
    "**\n",
    "[Insert a three-tiered map]\n",
    "\n",
    "**\n",
    "\n",
    "##### **Define Your Purpose:**\n",
    "\n",
    "_Before finding a dataset or collecting data, develop a hypothesis on a specific area you have chosen from your mindmap._\n",
    "\n",
    "**Hypothesis:** States with higher greenhouse gas emissions, such as Queensland and New South Wales, experience faster increases in annual average temperature compared to low-emission states like Tasmania and the ACT.\n",
    "\n",
    "**Research Question**: What are some impacts of states with higher greenhouse gas emissions?\n",
    "\n",
    "**\n",
    "\n",
    "##### **Requirements Outline:**\n",
    "**Functional Requirements:**\n",
    "- The code must support importing data from common file types (eg. csv)\n",
    "- The code must detect and flag the missing values\n",
    "- The code must be able to use basic functions. This includes:\n",
    "    - Mean\n",
    "    - Median\n",
    "    - Mode\n",
    "    - frequency\n",
    "    - Range\n",
    "    - Filtering data\n",
    "    - Data visualisation\n",
    "- Comparision between columns\n",
    "\n",
    "**Non Functional Requirements:**\n",
    "- The UI must be friendly, guiding users through steps like loading, cleaning, analyzing and visualizing data.\n",
    "- It should clearly label buttons and input fields\n",
    "- The system must provide visual feedback (e.g. progress indicators, success messages or error alerts).\n",
    "- Data previews must be shown using tables with scroll and search capabilities.\n",
    "- Visualization outputs should include labels and titles\n",
    "\n",
    "\n",
    "**Use-Case:**\n",
    "- Program Startup\n",
    "    - lorem ipsmum\n",
    "- Menu Options:\n",
    "    - View Data\n",
    "    - Filter/Search Data\n",
    "    - View Visualisations\n",
    "    - Update Data\n",
    "    - Exit\n",
    "- System Response:\n",
    "    - View Data: System displays a scrollable preview of the dataset.\n",
    "    - Filter/Search: Prompts user for criteria (e.g. year, category); system displays matching results.\n",
    "    - View Visualisations: System shows graphical representations (e.g. line graph, bar chart).\n",
    "    - Update Data: User is prompted to enter the row number or unique ID and the new values. System validates and confirms update.\n",
    "    - Exit: Closes the window\n",
    "\n"
   ]
  },
  {
   "cell_type": "markdown",
   "id": "c40588e1",
   "metadata": {},
   "source": [
    "### Phase 2: **Researching and Planning**\n",
    "\n",
    "##### **Research your Chosen Issue:**\n",
    "_What’s already available on the topic? Find news articles, journal articles, or interview students / teachers (if local issue) to get a sense of what people think of the topic. Make sure to include any links / interviews / surveys in your Markdown / Jupyter documentation._\n",
    "\n"
   ]
  },
  {
   "cell_type": "code",
   "execution_count": null,
   "id": "fd73f15b",
   "metadata": {},
   "outputs": [
    {
     "name": "stdout",
     "output_type": "stream",
     "text": [
      "                      Location  1 Energy (Mt)  2 Industrial Processes (Mt)  \\\n",
      "0                          ACT         1.1627                       0.2153   \n",
      "1    EXTERNAL TERRITORIES (ET)  Not available                       0.0022   \n",
      "2                          NSW        96.1409                      12.9953   \n",
      "3                           NT        10.6908                       0.1151   \n",
      "4                          QLD       111.6378                       5.8140   \n",
      "..                         ...            ...                          ...   \n",
      "301                        QLD         49.824                       3.2616   \n",
      "302                         SA        21.1785                       2.7588   \n",
      "303                        TAS         3.6944                       1.4174   \n",
      "304                        VIC        79.3911                       2.5280   \n",
      "305                         WA        32.7854                       1.7881   \n",
      "\n",
      "    3 Agriculture (Mt)  4 Land Use, Land-Use Change and Forestry UNFCCC (Mt)  \\\n",
      "0               0.0356                                            -0.0701      \n",
      "1        Not available                                            -0.0001      \n",
      "2              20.9318                                           -19.8683      \n",
      "3               3.1735                                             9.4078      \n",
      "4              24.2038                                           -16.3114      \n",
      "..                 ...                                                ...      \n",
      "301            23.6143                                           107.5277      \n",
      "302             7.0079                                             4.2656      \n",
      "303             2.6332                                            11.2331      \n",
      "304            16.7859                                             3.2630      \n",
      "305            12.4279                                            29.3751      \n",
      "\n",
      "     5 Waste (Mt)   7 Other (Mt)  Year  Total (MT)  \n",
      "0          0.0257  Not available  2023      1.3692  \n",
      "1          0.0043  Not available  2023      0.0064  \n",
      "2          4.2550  Not available  2023    114.4547  \n",
      "3          0.1943  Not available  2023     23.5815  \n",
      "4          2.7808  Not available  2023    128.1250  \n",
      "..            ...            ...   ...         ...  \n",
      "301        3.9619  Not available  1990    188.1895  \n",
      "302        1.6575  Not available  1990     36.8683  \n",
      "303        0.5680  Not available  1990     19.5461  \n",
      "304        6.3664  Not available  1990    108.3344  \n",
      "305        1.9744  Not available  1990     78.3509  \n",
      "\n",
      "[306 rows x 9 columns]\n"
     ]
    }
   ],
   "source": [
    "\n",
    "    "
   ]
  }
 ],
 "metadata": {
  "kernelspec": {
   "display_name": "Python 3",
   "language": "python",
   "name": "python3"
  },
  "language_info": {
   "codemirror_mode": {
    "name": "ipython",
    "version": 3
   },
   "file_extension": ".py",
   "mimetype": "text/x-python",
   "name": "python",
   "nbconvert_exporter": "python",
   "pygments_lexer": "ipython3",
   "version": "3.13.2"
  }
 },
 "nbformat": 4,
 "nbformat_minor": 5
}
