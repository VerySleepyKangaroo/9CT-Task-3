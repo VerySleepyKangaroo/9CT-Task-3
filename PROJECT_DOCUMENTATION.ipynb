{
 "cells": [
  {
   "cell_type": "code",
   "execution_count": null,
   "id": "bf7812a6",
   "metadata": {},
   "outputs": [],
   "source": []
  },
  {
   "cell_type": "markdown",
   "id": "3936de0c",
   "metadata": {},
   "source": []
  },
  {
   "cell_type": "markdown",
   "id": "982a52be",
   "metadata": {},
   "source": [
    "# **Project Documentation**\n",
    "Name: **Pranav Balamurugan** \n",
    "\n",
    "Assessment Task: **Data Science (Task 3)**"
   ]
  },
  {
   "cell_type": "markdown",
   "id": "de3a4dfb",
   "metadata": {},
   "source": [
    "### Phase 1: Identifying amd Defining"
   ]
  }
 ],
 "metadata": {
  "language_info": {
   "name": "python"
  }
 },
 "nbformat": 4,
 "nbformat_minor": 5
}
